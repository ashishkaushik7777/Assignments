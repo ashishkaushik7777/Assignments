{
 "cells": [
  {
   "cell_type": "markdown",
   "id": "88b1c35c",
   "metadata": {},
   "source": [
    "Q1.Why are functions advantageous to have in your programs?"
   ]
  },
  {
   "cell_type": "markdown",
   "id": "7a8a7144",
   "metadata": {},
   "source": [
    "A1.Functions enable us to resuse the same logic without entering the entire code,hence saves time\n",
    "   It makes the complex andlengthy programm into smaller pieces\n",
    "   "
   ]
  },
  {
   "cell_type": "markdown",
   "id": "456f64fd",
   "metadata": {},
   "source": [
    "Q2.When does the code in a function run: when its specified or when its called?\n",
    "\n",
    "\n",
    "A2.The code in a function run when it is called"
   ]
  },
  {
   "cell_type": "markdown",
   "id": "52e37bb9",
   "metadata": {},
   "source": [
    "Q3.What statement creates a function?\n",
    "\n",
    "A3.Def"
   ]
  },
  {
   "cell_type": "markdown",
   "id": "987919c0",
   "metadata": {},
   "source": [
    "Q4.What is the difference between a function and a function call?\n",
    "\n",
    "A4.A function is code written by user which can be used to increase the reusability of the program.A function call means invoking or calling that function."
   ]
  },
  {
   "cell_type": "markdown",
   "id": "22d396b6",
   "metadata": {},
   "source": [
    "Q5.How many global scopes are there in a Python program? How many local scopes?\n",
    "\n",
    "A5.There is one global scope and 1 local scope\n"
   ]
  },
  {
   "cell_type": "markdown",
   "id": "3288b141",
   "metadata": {},
   "source": [
    "Q6.What happens to variables in a local scope when the function call returns?\n",
    "\n",
    "A6.The local scope is destroyed when the function call returns\n"
   ]
  },
  {
   "cell_type": "markdown",
   "id": "44c44f1f",
   "metadata": {},
   "source": [
    "Q7.What is the concept of a return value? Is it possible to have a return value in an expression?\n",
    "\n",
    "A7.A return is a value that the function returns when its task is completed.Yes it is possible to have return value in an expression.\n",
    "\n"
   ]
  },
  {
   "cell_type": "markdown",
   "id": "ec00b318",
   "metadata": {},
   "source": [
    "Q8.If a function does not have a return statement, what is the return value of a call to that function?\n",
    "\n",
    "A8.None"
   ]
  },
  {
   "cell_type": "markdown",
   "id": "51e0e138",
   "metadata": {},
   "source": [
    "Q9.How do you make a function variable refer to the global variable?\n",
    "\n",
    "A9. By using global statement"
   ]
  },
  {
   "cell_type": "markdown",
   "id": "8171fde9",
   "metadata": {},
   "source": [
    "Q10. What is the data type of None?\n",
    "\n",
    "A10. NoneType"
   ]
  },
  {
   "cell_type": "markdown",
   "id": "e3fa28ec",
   "metadata": {},
   "source": [
    "Q11.What does the sentence import areallyourpetsnamederic do?\n",
    "\n",
    "A11.It will import module named areallyourpetsnamederic"
   ]
  },
  {
   "cell_type": "markdown",
   "id": "0ebc8374",
   "metadata": {},
   "source": [
    "Q12.If you had a bacon() feature in a spam module, what would you call it after importing spam?\n",
    "\n",
    "A12.spam.bacon()"
   ]
  },
  {
   "cell_type": "markdown",
   "id": "02dd4ce8",
   "metadata": {},
   "source": [
    "Q13.What can you do to save a programme from crashing if it encounters an error?\n",
    "\n",
    "\n",
    "A13.We can use try clause\n"
   ]
  },
  {
   "cell_type": "markdown",
   "id": "c4b7023d",
   "metadata": {},
   "source": [
    "Q14.What is the purpose of the try clause? What is the purpose of the except clause?\n",
    "\n",
    "A14.The code that has an error goes into try clause\n",
    "    The code that gives the statement to that particular error goes into the except clause."
   ]
  },
  {
   "cell_type": "code",
   "execution_count": null,
   "id": "d50c0ec7",
   "metadata": {},
   "outputs": [],
   "source": []
  }
 ],
 "metadata": {
  "kernelspec": {
   "display_name": "Python 3 (ipykernel)",
   "language": "python",
   "name": "python3"
  },
  "language_info": {
   "codemirror_mode": {
    "name": "ipython",
    "version": 3
   },
   "file_extension": ".py",
   "mimetype": "text/x-python",
   "name": "python",
   "nbconvert_exporter": "python",
   "pygments_lexer": "ipython3",
   "version": "3.10.9"
  }
 },
 "nbformat": 4,
 "nbformat_minor": 5
}
