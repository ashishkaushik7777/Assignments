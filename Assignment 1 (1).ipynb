{
 "cells": [
  {
   "cell_type": "markdown",
   "id": "b3cfc141",
   "metadata": {},
   "source": [
    "Q1.\n",
    "* is expression\n",
    "'hello' is string\n",
    "-87.8 is value\n",
    "/ is expression\n",
    "+ is expression \n",
    "6 is value\n"
   ]
  },
  {
   "cell_type": "markdown",
   "id": "3050e890",
   "metadata": {},
   "source": [
    "Q2.\n",
    "variable is a store of information while string is a type of information "
   ]
  },
  {
   "cell_type": "markdown",
   "id": "3c9ea369",
   "metadata": {},
   "source": [
    "Q3.\n",
    "String- represents sequence of characters\n",
    "int- represents integer value\n",
    "List-represents mutable collection of datatypes"
   ]
  },
  {
   "cell_type": "code",
   "execution_count": null,
   "id": "e9167536",
   "metadata": {},
   "outputs": [],
   "source": [
    "Q4.\n",
    "expression is made up of opererators and operands\n",
    "expressions perform mathematical operations"
   ]
  },
  {
   "cell_type": "markdown",
   "id": "99700736",
   "metadata": {},
   "source": [
    "Q5.\n",
    "Statement is an  instrucion that interpreter can execute\n",
    "expression is a combination of operators and operands\n"
   ]
  },
  {
   "cell_type": "markdown",
   "id": "5b4b2d9f",
   "metadata": {},
   "source": [
    "Q6.\n",
    "23"
   ]
  },
  {
   "cell_type": "markdown",
   "id": "5b6c572b",
   "metadata": {},
   "source": [
    "Q7.\n",
    "'spam'+'spamspam'='spamspamspam'\n",
    "'spam'*3 ='spamspamspam'"
   ]
  },
  {
   "cell_type": "code",
   "execution_count": null,
   "id": "de65e490",
   "metadata": {},
   "outputs": [],
   "source": [
    "Q8.\n",
    "eggs is alphabet which we can assign to some value while 100 is avalue itself we cannot assign numeric digits to some value\n"
   ]
  },
  {
   "cell_type": "code",
   "execution_count": null,
   "id": "03d6edfb",
   "metadata": {},
   "outputs": [],
   "source": [
    "Q9.\n",
    "int,float,str\n"
   ]
  },
  {
   "cell_type": "markdown",
   "id": "07201545",
   "metadata": {},
   "source": [
    "Q10.\n",
    "experession can be fixed by using ' 99 ' instead of 99.\n"
   ]
  },
  {
   "cell_type": "code",
   "execution_count": 4,
   "id": "29748c1b",
   "metadata": {},
   "outputs": [
    {
     "data": {
      "text/plain": [
       "'i have eaten 99 buritoes'"
      ]
     },
     "execution_count": 4,
     "metadata": {},
     "output_type": "execute_result"
    }
   ],
   "source": [
    "'i have eaten' +' 99 '+'buritoes'"
   ]
  },
  {
   "cell_type": "code",
   "execution_count": null,
   "id": "696fcb9d",
   "metadata": {},
   "outputs": [],
   "source": []
  }
 ],
 "metadata": {
  "kernelspec": {
   "display_name": "Python 3 (ipykernel)",
   "language": "python",
   "name": "python3"
  },
  "language_info": {
   "codemirror_mode": {
    "name": "ipython",
    "version": 3
   },
   "file_extension": ".py",
   "mimetype": "text/x-python",
   "name": "python",
   "nbconvert_exporter": "python",
   "pygments_lexer": "ipython3",
   "version": "3.10.9"
  }
 },
 "nbformat": 4,
 "nbformat_minor": 5
}
